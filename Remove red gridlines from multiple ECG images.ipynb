{
 "cells": [
  {
   "cell_type": "code",
   "execution_count": null,
   "id": "0e50243c",
   "metadata": {},
   "outputs": [],
   "source": [
    "import cv2\n",
    "import numpy as np\n",
    "import matplotlib.pyplot as plt\n",
    "import os\n",
    "from os import listdir"
   ]
  },
  {
   "cell_type": "code",
   "execution_count": null,
   "id": "48902ad5",
   "metadata": {},
   "outputs": [],
   "source": [
    "# Remove grid line\n",
    "num = 1;\n",
    "folder_dir = \"K:/NSU Semester/Research/Real ECG Paper\"\n",
    "for images in os.listdir(folder_dir):\n",
    "    \n",
    "    img = cv2.imread('K:/NSU Semester/Research/Real ECG Paper/'+ str(num) +'.PNG')\n",
    "    hsv = cv2.cvtColor(img, cv2.COLOR_BGR2HSV)\n",
    "    \n",
    "    plt.figure(figsize=(20,8))\n",
    "    \n",
    "    lower_range = np.array([0, 0, 200])\n",
    "    upper_range = np.array([180, 255, 255])\n",
    "    \n",
    "    mask = cv2.inRange(hsv, lower_range, upper_range)\n",
    "    \n",
    "    cv2.imwrite('K:/NSU Semester/Research/Real ECG Paper/converted/'+ str(num) +'.PNG', mask)\n",
    "    num = num + 1;\n",
    "    "
   ]
  },
  {
   "cell_type": "code",
   "execution_count": null,
   "id": "42a455a2",
   "metadata": {},
   "outputs": [],
   "source": [
    "# Noise Cancellation\n",
    "num = 1;\n",
    "folder_dir = \"K:/NSU Semester/Research/Real ECG Paper\"\n",
    "for images in os.listdir(folder_dir):\n",
    "    \n",
    "    image = cv2.imread('K:/NSU Semester/Research/Real ECG Paper/converted/'+ str(num) +'.PNG')\n",
    "    gray = cv2.cvtColor(image, cv2.COLOR_BGR2GRAY)\n",
    "    thresh = cv2.threshold(gray, 0, 255, cv2.THRESH_BINARY_INV + cv2.THRESH_OTSU)[1]\n",
    "\n",
    "    cnts = cv2.findContours(thresh, cv2.RETR_EXTERNAL, cv2.CHAIN_APPROX_SIMPLE)\n",
    "    cnts = cnts[0] if len(cnts) == 2 else cnts[1]\n",
    "    for c in cnts:\n",
    "        if cv2.contourArea(c) < 1:\n",
    "            cv2.drawContours(thresh, [c], -1, (0,0,0), -1)\n",
    "\n",
    "    result = 255 - thresh\n",
    "    cv2.imwrite('K:/NSU Semester/Research/Real ECG Paper/Without Noise/'+ str(num) +'.PNG', result)\n",
    "    num = num + 1;\n"
   ]
  }
 ],
 "metadata": {
  "kernelspec": {
   "display_name": "work",
   "language": "python",
   "name": "work"
  },
  "language_info": {
   "codemirror_mode": {
    "name": "ipython",
    "version": 3
   },
   "file_extension": ".py",
   "mimetype": "text/x-python",
   "name": "python",
   "nbconvert_exporter": "python",
   "pygments_lexer": "ipython3",
   "version": "3.8.12"
  }
 },
 "nbformat": 4,
 "nbformat_minor": 5
}
